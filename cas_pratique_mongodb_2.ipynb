{
 "cells": [
  {
   "cell_type": "code",
   "execution_count": 31,
   "id": "f8c78b8c",
   "metadata": {},
   "outputs": [],
   "source": [
    "import json\n",
    "from datetime import datetime, time\n",
    "\n",
    "from pymongo.mongo_client import MongoClient\n",
    "import bson"
   ]
  },
  {
   "cell_type": "markdown",
   "id": "1c54ef67",
   "metadata": {},
   "source": [
    "* A partir du fichier trips_.json, remplacez les espaces des clés par un underscore, puis mettez en base en changeant les chaîne de caractères qui concerne des grandeurs numériques par le type integer ou float et les champs de date ($date) doit être sous format datetime.datetime. Ainsi les champs préfixé '$number...' suivent  l'exemple ci-dessous(cherchez du côté de la librairie bson, il existe une fonction utilitaire, il faut aussi réduire la profondeur):\n",
    "\n",
    "```json\n",
    "{'tripduration': {'$numberInt': 379}}\n",
    "```\n",
    "\n",
    "en :\n",
    "\n",
    "```json\n",
    "{'tripduration': 379}\n",
    "```\n",
    "\n"
   ]
  },
  {
   "cell_type": "markdown",
   "id": "b83ea8ec",
   "metadata": {},
   "source": [
    "Après avoir mis en base et uniquement, assurez-vous qu'il n'y a pas de doublons, si il y en a, écrivez une fonction python permettant de les retirer (sans à avoir à faire de téléchargement)"
   ]
  },
  {
   "cell_type": "markdown",
   "id": "2f3b8894",
   "metadata": {},
   "source": [
    "De plus, des hypothèses d'incohérences ont été émises par les parties prenantes, il s'agit d'écrire pour chacune de ces hypothèses une fonction python qui va détecter les documents incriminés et les flagger avec un champs supplémentaire pour rectification/enquête ultérieure :\n",
    "\n",
    "* Un vélo loué deux fois, mais la deuxième période de location démarre avant le rendu de la première période de location, ce qui n'est pas normal, ou tout autre chevanchement de période.\n",
    "* Un utilisateur trop jeune (le service est réservé au + de 13 ans)\n",
    "* La date de naissance n'est pas renseignée\n",
    "* Des locations trop courtes (1 secondes)\n",
    "* Des temps de location incohérents par rapport au start_time et au end_time\n",
    "\n",
    "\n",
    "Faites un rapport détaillé des anomalies trouvées (nombres d'occurences)"
   ]
  },
  {
   "cell_type": "markdown",
   "id": "d73b8fb4",
   "metadata": {},
   "source": [
    "Puis, après avoir fait un nettoyage et écarté les locations suspectes, répondez aux questions métier qui suivent :"
   ]
  },
  {
   "cell_type": "markdown",
   "id": "cf6353f0",
   "metadata": {},
   "source": [
    "* Quels sont les 5 trajets (start station → end station) les plus fréquents pour les utilisateurs de genre féminin ? (gender = 1)"
   ]
  },
  {
   "cell_type": "code",
   "execution_count": null,
   "id": "264ba675",
   "metadata": {},
   "outputs": [],
   "source": []
  },
  {
   "cell_type": "markdown",
   "id": "e97d8fb7",
   "metadata": {},
   "source": [
    "* Quel est le nombre total de trajets par type d’utilisateur (Subscriber vs Customer) pour l’année 2023 ?"
   ]
  },
  {
   "cell_type": "code",
   "execution_count": null,
   "id": "bc899bfb",
   "metadata": {},
   "outputs": [],
   "source": []
  },
  {
   "cell_type": "markdown",
   "id": "f937e2c9",
   "metadata": {},
   "source": [
    "* Quelle est la durée moyenne des trajets par station de départ pour les trajets commençant entre 7h et 9h ?"
   ]
  },
  {
   "cell_type": "code",
   "execution_count": null,
   "id": "ee1e5d79",
   "metadata": {},
   "outputs": [],
   "source": []
  },
  {
   "cell_type": "markdown",
   "id": "4cc412f4",
   "metadata": {},
   "source": [
    "* Quel est le top 3 des stations avec la plus forte augmentation du nombre de trajets entre deux années consécutives ?"
   ]
  },
  {
   "cell_type": "code",
   "execution_count": null,
   "id": "50f117b9",
   "metadata": {},
   "outputs": [],
   "source": []
  },
  {
   "cell_type": "markdown",
   "id": "189a1e88",
   "metadata": {},
   "source": [
    "* Pour chaque catégorie d’âge, quelle est la durée médiane des trajets ?"
   ]
  },
  {
   "cell_type": "code",
   "execution_count": null,
   "id": "4979700e",
   "metadata": {},
   "outputs": [],
   "source": []
  },
  {
   "cell_type": "markdown",
   "id": "4877aa1c",
   "metadata": {},
   "source": [
    "* Quels sont les utilisateurs les plus actifs (10%) et leur contribution au nombre total de trajets ?"
   ]
  },
  {
   "cell_type": "code",
   "execution_count": null,
   "id": "5d3ed3ea",
   "metadata": {},
   "outputs": [],
   "source": []
  },
  {
   "cell_type": "markdown",
   "id": "6ac09775",
   "metadata": {},
   "source": [
    "* Quelle est la répartition des trajets par jour de la semaine (lundi, mardi, etc.) ?"
   ]
  },
  {
   "cell_type": "code",
   "execution_count": null,
   "id": "f93b73a6",
   "metadata": {},
   "outputs": [],
   "source": []
  },
  {
   "cell_type": "markdown",
   "id": "fc6b00bf",
   "metadata": {},
   "source": [
    "* Quel est le temps moyen passé en trajet pour chaque genre, filtré sur les trajets de plus de 10 minutes ?"
   ]
  },
  {
   "cell_type": "code",
   "execution_count": null,
   "id": "d71418a1",
   "metadata": {},
   "outputs": [],
   "source": []
  },
  {
   "cell_type": "markdown",
   "id": "36a1b288",
   "metadata": {},
   "source": [
    "* Combien de trajets ont démarré dans une station donnée pendant les heures de pointe (ex. 7h-9h et 17h-19h) ?"
   ]
  },
  {
   "cell_type": "code",
   "execution_count": null,
   "id": "e14da1f7",
   "metadata": {},
   "outputs": [],
   "source": []
  },
  {
   "cell_type": "markdown",
   "id": "c4ce7a5f",
   "metadata": {},
   "source": [
    "* Quelles sont les 5 stations avec la plus grande diversité d’utilisateurs (nombre distinct d’user id) ?"
   ]
  },
  {
   "cell_type": "code",
   "execution_count": null,
   "id": "b2b40add",
   "metadata": {},
   "outputs": [],
   "source": []
  }
 ],
 "metadata": {
  "kernelspec": {
   "display_name": "env",
   "language": "python",
   "name": "python3"
  },
  "language_info": {
   "codemirror_mode": {
    "name": "ipython",
    "version": 3
   },
   "file_extension": ".py",
   "mimetype": "text/x-python",
   "name": "python",
   "nbconvert_exporter": "python",
   "pygments_lexer": "ipython3",
   "version": "3.12.3"
  }
 },
 "nbformat": 4,
 "nbformat_minor": 5
}
