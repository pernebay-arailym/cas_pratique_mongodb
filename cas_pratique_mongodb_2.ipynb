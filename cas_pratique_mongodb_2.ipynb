{
 "cells": [
  {
   "cell_type": "code",
   "execution_count": 119,
   "id": "f8c78b8c",
   "metadata": {},
   "outputs": [],
   "source": [
    "import json\n",
    "from datetime import datetime, time\n",
    "\n",
    "from pymongo.mongo_client import MongoClient\n",
    "import bson\n",
    "\n",
    "from datetime import datetime\n",
    "import os"
   ]
  },
  {
   "cell_type": "markdown",
   "id": "1c54ef67",
   "metadata": {},
   "source": [
    "* A partir du fichier trips_.json, remplacez les espaces des clés par un underscore, puis mettez en base en changeant les chaîne de caractères qui concerne des grandeurs numériques par le type integer ou float et les champs de date ($date) doit être sous format datetime.datetime. Ainsi les champs préfixé '$number...' suivent  l'exemple ci-dessous(cherchez du côté de la librairie bson, il existe une fonction utilitaire, il faut aussi réduire la profondeur):\n",
    "* From the file trips_.json, replace the spaces in the keys with underscores. Then insert the data into the database while converting string values that represent numerical quantities into either integer or float types. Fields containing dates ($date) must be converted to the datetime.datetime format. Also, fields prefixed with $number... should follow the example below (look into the bson library — there is a utility function for this). The depth of the document should also be reduced.\n",
    "\n",
    "```json\n",
    "{'tripduration': {'$numberInt': 379}}\n",
    "```\n",
    "\n",
    "en :\n",
    "\n",
    "```json\n",
    "{'tripduration': 379}\n",
    "```"
   ]
  },
  {
   "cell_type": "code",
   "execution_count": 120,
   "id": "750ebabc",
   "metadata": {},
   "outputs": [],
   "source": [
    "\n",
    "def clean_document(doc):\n",
    "    if isinstance(doc, dict):\n",
    "        # Handle special MongoDB extended JSON values\n",
    "        if \"$numberInt\" in doc:\n",
    "            return int(doc[\"$numberInt\"]) #If the document is like: {\"$numberInt\": \"42\"}, this will return 42 as a Python int.\n",
    "        elif \"$numberDouble\" in doc:\n",
    "            return float(doc[\"$numberDouble\"])\n",
    "        elif \"$numberLong\" in doc:\n",
    "            return int(doc[\"$numberLong\"])\n",
    "        elif \"$date\" in doc:\n",
    "            date_val = doc[\"$date\"]\n",
    "            if isinstance(date_val, dict) and \"$numberLong\" in date_val:\n",
    "                return datetime.fromtimestamp(int(date_val[\"$numberLong\"]) / 1000.0) #Dates are stored in JSON as a Unix timestamp in milliseconds Python's datetime.fromtimestamp() expects seconds, so we divide by 1000.\n",
    "            elif isinstance(date_val, str): #If the date is an ISO-formatted string\n",
    "                return datetime.fromisoformat(date_val.replace(\"Z\", \"+00:00\")) #.replace(\"Z\", \"+00:00\") makes it compatible with datetime.fromisoformat\n",
    "                                                                                #Converts the string to a native datetime object\n",
    "\n",
    "        # Clean key names and recursively clean values\n",
    "        cleaned = {}\n",
    "        for key, value in doc.items():\n",
    "            clean_key = key.replace(\" \", \"_\")\n",
    "            cleaned[clean_key] = clean_document(value) #handling normal dictionaries (not just special MongoDB fields)\n",
    "        return cleaned\n",
    "\n",
    "    elif isinstance(doc, list): #f doc is a list\n",
    "        return [clean_document(item) for item in doc] #this goes through each item in the list and applies clean_document() recursively.\n",
    "    \n",
    "    else:\n",
    "        return doc #If the input doc is: a string (\"hello\"), an integer (123), a float (3.14), None, or anything that isn’t a dict or list…, \n",
    "                   #Then it just returns it as-is.\n"
   ]
  },
  {
   "cell_type": "code",
   "execution_count": 121,
   "id": "949b8263",
   "metadata": {},
   "outputs": [
    {
     "name": "stdout",
     "output_type": "stream",
     "text": [
      "{'tripduration': 307, 'start_station_id': 3118, 'start_station_name': 'McGuinness Blvd & Eagle St', 'end_station_id': 3119, 'end_station_name': 'Vernon Blvd & 50 Ave', 'bikeid': 23477, 'usertype': 'Subscriber', 'birth_year': 1987, 'gender': 1, 'start_station_location': {'type': 'Point', 'coordinates': [-73.95284, 40.73555]}, 'end_station_location': {'type': 'Point', 'coordinates': [-73.95411749, 40.74232744]}, 'start_time': datetime.datetime(2016, 1, 1, 8, 4, 31), 'stop_time': datetime.datetime(2016, 1, 1, 8, 9, 38)}\n"
     ]
    }
   ],
   "source": [
    "import json\n",
    "\n",
    "cleaned_documents = [] #Creates an empty list that will store all the cleaned documents.\n",
    "\n",
    "with open(\"trips_.json\", \"r\", encoding=\"utf-8\") as f:\n",
    "    for line in f:\n",
    "        line = line.strip() #removes leading/trailing whitespace and newline characters\n",
    "        if not line:\n",
    "            continue\n",
    "        raw_doc = json.loads(line) #converts the JSON string into a Python dictionary \n",
    "        cleaned = clean_document(raw_doc) #applies the cleaning function I defined earlier\n",
    "        cleaned_documents.append(cleaned) #Adds the cleaned version of the document to the cleaned_documents list\n",
    "\n",
    "# Show one example\n",
    "print(cleaned_documents[0])\n",
    "\n"
   ]
  },
  {
   "cell_type": "markdown",
   "id": "b83ea8ec",
   "metadata": {},
   "source": [
    "Après avoir mis en base et uniquement, assurez-vous qu'il n'y a pas de doublons, si il y en a, écrivez une fonction python permettant de les retirer (sans à avoir à faire de téléchargement) 'delete dublicates'"
   ]
  },
  {
   "cell_type": "code",
   "execution_count": 122,
   "id": "1008a976",
   "metadata": {},
   "outputs": [
    {
     "name": "stdout",
     "output_type": "stream",
     "text": [
      "Cleared existing documents.\n",
      "Inserted 10019 documents.\n"
     ]
    }
   ],
   "source": [
    "# Connect to local MongoDB\n",
    "client = MongoClient(\"mongodb://localhost:27017/\")\n",
    "db = client[\"bikedata\"]\n",
    "collection = db[\"trips\"]\n",
    "\n",
    "\n",
    "# Clear existing documents to avoid duplicate stacking\n",
    "collection.delete_many({})\n",
    "print(\"Cleared existing documents.\")\n",
    "\n",
    "# Insert cleaned documents\n",
    "collection.insert_many(cleaned_documents)\n",
    "print(f\"Inserted {len(cleaned_documents)} documents.\")\n"
   ]
  },
  {
   "cell_type": "code",
   "execution_count": 123,
   "id": "7d0d3647",
   "metadata": {},
   "outputs": [
    {
     "name": "stdout",
     "output_type": "stream",
     "text": [
      "Removed 19 duplicates.\n"
     ]
    }
   ],
   "source": [
    "from bson.json_util import dumps #converts a Python dict (or MongoDB document) into a JSON-formatted string, \n",
    "                                #including support for special MongoDB types like ObjectId, datetime, etc.\n",
    "\n",
    "def remove_duplicates(collection):\n",
    "    seen = set()\n",
    "    duplicates = []\n",
    "\n",
    "    for doc in collection.find(): #Loop Through Every Document in the Collection\n",
    "        doc_copy = doc.copy() #Prepare the Document for Comparison\n",
    "        doc_copy.pop(\"_id\", None) #Even if two documents are otherwise identical, their _ids will differ, so we remove _id before comparison.\n",
    "        doc_str = dumps(doc_copy, sort_keys=True) #Converts the document into a string using bson.json_util.dumps()\n",
    "                                                #sort_keys=True ensures a consistent order for fields \n",
    "\n",
    "        if doc_str in seen: #If this stringified document has been seen before → it’s a duplicate → store its _id in duplicates\n",
    "            duplicates.append(doc[\"_id\"])\n",
    "        else:\n",
    "            seen.add(doc_str) #If not → add it to seen\n",
    "\n",
    "    if duplicates:\n",
    "        collection.delete_many({\"_id\": {\"$in\": duplicates}}) #Uses $in to match any document with one of those _ids\n",
    "        print(f\"Removed {len(duplicates)} duplicates.\")\n",
    "    else:\n",
    "        print(\"No duplicates found.\")\n",
    "\n",
    "remove_duplicates(collection)\n"
   ]
  },
  {
   "cell_type": "code",
   "execution_count": 124,
   "id": "a6b9e489",
   "metadata": {},
   "outputs": [
    {
     "name": "stdout",
     "output_type": "stream",
     "text": [
      "Saved cleaned_trips.json to:\n",
      "/Users/pernebayarailym/Documents/Portfolio_Projects_AP/Simplon_DE_Projects/Python_Projects/MongoDB_practice/cleaned_trips.json\n"
     ]
    }
   ],
   "source": [
    "output_path = os.path.join(os.getcwd(), \"cleaned_trips.json\")\n",
    "\n",
    "with open(output_path, \"w\", encoding=\"utf-8\") as f:\n",
    "    for doc in cleaned_documents:\n",
    "        json.dump(doc, f, default=str)  # default=str for datetime\n",
    "        f.write(\"\\n\")\n",
    "\n",
    "print(\"Saved cleaned_trips.json to:\")\n",
    "print(output_path)"
   ]
  },
  {
   "cell_type": "markdown",
   "id": "95997b49",
   "metadata": {},
   "source": [
    "De plus, des hypothèses d'incohérences ont été émises par les parties prenantes, il s'agit d'écrire pour chacune de ces hypothèses une fonction python qui va détecter les documents incriminés et les flagger avec un champs supplémentaire pour rectification/enquête ultérieure :\n",
    "\n",
    "* Un vélo loué deux fois, mais la deuxième période de location démarre avant le rendu de la première période de location, ce qui n'est pas normal, ou tout autre chevanchement de période.\n",
    "* Un utilisateur trop jeune (le service est réservé au + de 13 ans)\n",
    "* La date de naissance n'est pas renseignée\n",
    "* Des locations trop courtes (1 secondes)\n",
    "* Des temps de location incohérents par rapport au start_time et au end_time\n",
    "\n",
    "\n",
    "Faites un rapport détaillé des anomalies trouvées (nombres d'occurences)\n",
    "\n",
    "* In addition, stakeholders have raised hypotheses about potential data inconsistencies. You are required to write a Python function for each of these hypotheses to detect the problematic documents and flag them with an additional field for future correction/investigation:\n",
    "\n",
    "- A bike is rented twice, but the second rental period starts before the first one has ended, which is abnormal, or any other overlapping rental periods.\n",
    "- A user who is too young (the service is restricted to those over 13 years old).\n",
    "- The birth date is missing.\n",
    "- Very short rentals (e.g., 1 second long).\n",
    "- Inconsistent rental durations compared to the recorded start_time and end_time.\n",
    "\n",
    "Create a detailed report of the anomalies found (number of occurrences)."
   ]
  },
  {
   "cell_type": "markdown",
   "id": "fda3e6c3",
   "metadata": {},
   "source": [
    "## 1. Overlapping Bike Rentals"
   ]
  },
  {
   "cell_type": "code",
   "execution_count": 125,
   "id": "c87d7249",
   "metadata": {},
   "outputs": [
    {
     "name": "stdout",
     "output_type": "stream",
     "text": [
      "{'overlapping_rental': 2}\n"
     ]
    }
   ],
   "source": [
    "def detect_overlapping_bike_rentals(collection): #I developed a Python function to detect overlapping bike rentals in the MongoDB dataset.\n",
    "    from collections import defaultdict #to import defaultdict to automatically create lists for new keys \n",
    "\n",
    "    bike_trips = defaultdict(list) #dictionary to group trips by bike ID, e.g., {23477: [trip1, trip2, ...]}\n",
    "    overlap_count=0 #to count the number of overlapping trips\n",
    "\n",
    "    #group trips by bike_id\n",
    "    for trip in collection.find({\"start_time\":{\"$exists\": True}, \"stop_time\": {\"$exists\": True}}): #sorted each group by start_time to analyze them chronologically.\n",
    "        bike_trips[trip[\"bikeid\"]].append(trip)\n",
    "\n",
    "    #check overlap per bike\n",
    "    for trips in bike_trips.values():\n",
    "        sorted_trips =sorted(trips, key=lambda x: x[\"start_time\"]) #Then, for each bike, I checked if a new trip started before the previous one ended which would indicate a scheduling conflict or data error.\n",
    "\n",
    "        for earlier, later in zip(sorted_trips, sorted_trips[1:]):\n",
    "            if later[\"start_time\"] < earlier[\"stop_time\"]:\n",
    "                collection.update_one({\"_id\": later[\"_id\"]}, {\"$set\": {\"anomaly\": \"overlapping_rental\"}}) #If an overlap was found, I flagged the trip by adding an \"anomaly\": \"overlapping_rental\" field in the database. \n",
    "                overlap_count += 1\n",
    "\n",
    "    return {\"overlapping_rental\": overlap_count}\n",
    "\n",
    "result = detect_overlapping_bike_rentals(collection)\n",
    "print(result) #Finally, I returned the total number of overlaps detected for reporting purposes."
   ]
  },
  {
   "cell_type": "markdown",
   "id": "a83159bd",
   "metadata": {},
   "source": [
    "## 2. Users under 13 Years Old"
   ]
  },
  {
   "cell_type": "code",
   "execution_count": 126,
   "id": "c48f08af",
   "metadata": {},
   "outputs": [
    {
     "name": "stdout",
     "output_type": "stream",
     "text": [
      "{'underage_user': 2}\n"
     ]
    }
   ],
   "source": [
    "from datetime import datetime # we import datetime to get the current year (to calculate user's ages)\n",
    "\n",
    "def detect_underage_users(collection): # define a function that takes a MongoDB collection as input\n",
    "    current_year = datetime.now().year # Get the current year (eg 2025) so we can calculate the user;s age\n",
    "\n",
    "#count how many users have a birth year that means they are younger than 13\n",
    "    underage_count = collection.count_documents({\n",
    "        \"birth_year\": { \"$exists\": True, #make sure birth_year field exists\n",
    "                       \"$ne\": \"\", #And it's not an empty string\n",
    "                       \"$gt\": current_year - 13} #and birth year is greater than (current year - 13) = too young\n",
    "    })\n",
    "\n",
    "    # tag those name underage users with an \"anomaly\" field in the database\n",
    "    collection.update_many(\n",
    "        {\"birth_year\": {\"$exists\": True, \"$ne\": \"\", \"$gt\":current_year-13}}, #same filter as above to update\n",
    "        {\"$set\": {\"anomaly\": \"underage_user\"}} #add or update the anomaly field in their document\n",
    "    )\n",
    "\n",
    "    return {\"underage_user\": underage_count} #return a report with the number of underage users detected\n",
    "\n",
    "result = detect_underage_users(collection) #call the function and store the result\n",
    "print(result)"
   ]
  },
  {
   "cell_type": "markdown",
   "id": "7fb899dc",
   "metadata": {},
   "source": [
    "## 3. Detect missing Birth Year"
   ]
  },
  {
   "cell_type": "code",
   "execution_count": 127,
   "id": "c1f447ed",
   "metadata": {},
   "outputs": [
    {
     "name": "stdout",
     "output_type": "stream",
     "text": [
      "{'missing_birth_year': 1989}\n"
     ]
    }
   ],
   "source": [
    "def detect_missing_birth_year(collection): #define the function that takes monodb collection as input\n",
    "\n",
    "    #count how many docs have a missing birth year either empty string or None\n",
    "    missing_count = collection.count_documents({\n",
    "        \"birth_year\": {\"$in\": [\"\", None]} \n",
    "    })\n",
    "\n",
    "    # for those documents, update them by adding a new field: \"anomaly\": \"missing_birth_year\"\n",
    "    collection.update_many(\n",
    "        {\"birth_year\":  {\"$in\": [\"\", None]}}, \n",
    "        {\"$set\": {\"anomaly\": \"missing_birth_year\"}} #add the anomaly tag to those documents\n",
    "    )\n",
    "\n",
    "    return {\"missing_birth_year\": missing_count} #return a report with the number of documents with missing birth year\n",
    "\n",
    "result = detect_missing_birth_year(collection) #call the function and store the result\n",
    "print(result)"
   ]
  },
  {
   "cell_type": "markdown",
   "id": "bdd568e9",
   "metadata": {},
   "source": [
    "## 4. Detect Very Short Rentals"
   ]
  },
  {
   "cell_type": "code",
   "execution_count": 128,
   "id": "0e59bd81",
   "metadata": {},
   "outputs": [
    {
     "name": "stdout",
     "output_type": "stream",
     "text": [
      "{'very_short_rentals': 4}\n"
     ]
    }
   ],
   "source": [
    "def detect_short_rentals(collection):\n",
    "    short_count =collection.count_documents({\"tripduration\": {\"$lte\": 1}}) #count how many trips have a duration of 1 second or less\n",
    "    collection.update_many(\n",
    "        {\"tripduration\":{\"$lte\": 1}},\n",
    "        {\"$set\": {\"anomaly\": \"very_short_rentals\"}}\n",
    "    )\n",
    "    return {\"very_short_rentals\": short_count} #return a report with the number of very short rentals detected\n",
    "\n",
    "result = detect_short_rentals(collection)\n",
    "print(result)"
   ]
  },
  {
   "cell_type": "markdown",
   "id": "7f8f924d",
   "metadata": {},
   "source": [
    "## 5. Detect Inconsistent Rental Durations compared to the recorded start_time and end_time."
   ]
  },
  {
   "cell_type": "code",
   "execution_count": 129,
   "id": "42461d2b",
   "metadata": {},
   "outputs": [
    {
     "name": "stdout",
     "output_type": "stream",
     "text": [
      "{'duration_mismatch': 10}\n"
     ]
    }
   ],
   "source": [
    "def detect_duration_mismatches(collection): #define fucntion to find inccorrect durations\n",
    "    mismatch_count = 0 #initialize a counter for mismatched duration cases\n",
    "\n",
    "    #loop through all trips that have start_time , stop_time, and tripduration fields\n",
    "    for trip in collection.find({\"start_time\": {\"$exists\": True}, \"stop_time\": {\"$exists\": True}, \"tripduration\": {\"$exists\":True}}):\n",
    "        #calculate actual duration in seconds between start and stop times\n",
    "        actual_duration = int((trip[\"stop_time\"] - trip[\"start_time\"]).total_seconds()) #total_seconds() gives the duration in seconds\n",
    "\n",
    "        #check if the actual duration differs from the recorded one by more than 10 sec \n",
    "        if abs(actual_duration-trip[\"tripduration\"])>10: #allow a small 10 sec difference margin\n",
    "            collection.update_one(\n",
    "                {\"_id\": trip[\"_id\"]}, #find the doc by its unique mongodb id\n",
    "                {\"$set\": {\"anomaly\": \"duration_mismatch\"}} #add the anomaly tag to that document\n",
    "            )\n",
    "            mismatch_count += 1 #increase mismatch counter\n",
    "\n",
    "    return {\"duration_mismatch\": mismatch_count} #return a report with the number of mismatched durations detected\n",
    "\n",
    "result = detect_duration_mismatches(collection)\n",
    "print(result)"
   ]
  },
  {
   "cell_type": "code",
   "execution_count": 130,
   "id": "bc6bde63",
   "metadata": {},
   "outputs": [
    {
     "name": "stdout",
     "output_type": "stream",
     "text": [
      "{'overlapping_rental': 2, 'underage_user': 2, 'missing_birth_year': 1989, 'very_short_rentals': 4, 'duration_mismatch': 10}\n"
     ]
    }
   ],
   "source": [
    "def run_all_anomaly_checks(collection):\n",
    "    report = {}\n",
    "    report.update(detect_overlapping_bike_rentals(collection))\n",
    "    report.update(detect_underage_users(collection))\n",
    "    report.update(detect_missing_birth_year(collection))\n",
    "    report.update(detect_short_rentals(collection))\n",
    "    report.update(detect_duration_mismatches(collection))\n",
    "    return report\n",
    "\n",
    "result = run_all_anomaly_checks(collection)\n",
    "print(result)"
   ]
  },
  {
   "cell_type": "markdown",
   "id": "9b7ab216",
   "metadata": {},
   "source": [
    "Puis, après avoir fait un nettoyage et écarté les locations suspectes, répondez aux questions métier qui suivent :"
   ]
  },
  {
   "cell_type": "markdown",
   "id": "641ee46c",
   "metadata": {},
   "source": [
    "* Changez le gender 0 en gender 1"
   ]
  },
  {
   "cell_type": "code",
   "execution_count": null,
   "id": "efe6281e",
   "metadata": {},
   "outputs": [
    {
     "ename": "InvalidDocument",
     "evalue": "Invalid document {'q': {'gender': 0}, 'u': {'$set': {'gender: 1'}}, 'multi': True, 'upsert': False} | cannot encode object: {'gender: 1'}, of type: <class 'set'>",
     "output_type": "error",
     "traceback": [
      "\u001b[0;31m---------------------------------------------------------------------------\u001b[0m",
      "\u001b[0;31mInvalidDocument\u001b[0m                           Traceback (most recent call last)",
      "Cell \u001b[0;32mIn[134], line 9\u001b[0m\n\u001b[1;32m      2\u001b[0m     result \u001b[38;5;241m=\u001b[39m collection\u001b[38;5;241m.\u001b[39mupdate_many(\n\u001b[1;32m      3\u001b[0m         {\u001b[38;5;124m\"\u001b[39m\u001b[38;5;124mgender\u001b[39m\u001b[38;5;124m\"\u001b[39m: \u001b[38;5;241m0\u001b[39m}, \u001b[38;5;66;03m# Filter: find all documents where gender is 0\u001b[39;00m\n\u001b[1;32m      4\u001b[0m         {\u001b[38;5;124m\"\u001b[39m\u001b[38;5;124m$set\u001b[39m\u001b[38;5;124m\"\u001b[39m: {\u001b[38;5;124m\"\u001b[39m\u001b[38;5;124mgender: 1\u001b[39m\u001b[38;5;124m\"\u001b[39m}}  \u001b[38;5;66;03m# Update: set gender to 1\u001b[39;00m\n\u001b[1;32m      5\u001b[0m     )\n\u001b[1;32m      7\u001b[0m     \u001b[38;5;28;01mreturn\u001b[39;00m {\u001b[38;5;124m\"\u001b[39m\u001b[38;5;124mmodified_count\u001b[39m\u001b[38;5;124m\"\u001b[39m: result\u001b[38;5;241m.\u001b[39mmodified_count} \u001b[38;5;66;03m# Return number of updated documents\u001b[39;00m\n\u001b[0;32m----> 9\u001b[0m result \u001b[38;5;241m=\u001b[39m update_gender_zero_to_one(collection)\n\u001b[1;32m     10\u001b[0m \u001b[38;5;28mprint\u001b[39m(result)\n",
      "Cell \u001b[0;32mIn[134], line 2\u001b[0m, in \u001b[0;36mupdate_gender_zero_to_one\u001b[0;34m(collection)\u001b[0m\n\u001b[1;32m      1\u001b[0m \u001b[38;5;28;01mdef\u001b[39;00m \u001b[38;5;21mupdate_gender_zero_to_one\u001b[39m(collection):\n\u001b[0;32m----> 2\u001b[0m     result \u001b[38;5;241m=\u001b[39m collection\u001b[38;5;241m.\u001b[39mupdate_many(\n\u001b[1;32m      3\u001b[0m         {\u001b[38;5;124m\"\u001b[39m\u001b[38;5;124mgender\u001b[39m\u001b[38;5;124m\"\u001b[39m: \u001b[38;5;241m0\u001b[39m}, \u001b[38;5;66;03m# Filter: find all documents where gender is 0\u001b[39;00m\n\u001b[1;32m      4\u001b[0m         {\u001b[38;5;124m\"\u001b[39m\u001b[38;5;124m$set\u001b[39m\u001b[38;5;124m\"\u001b[39m: {\u001b[38;5;124m\"\u001b[39m\u001b[38;5;124mgender: 1\u001b[39m\u001b[38;5;124m\"\u001b[39m}}  \u001b[38;5;66;03m# Update: set gender to 1\u001b[39;00m\n\u001b[1;32m      5\u001b[0m     )\n\u001b[1;32m      7\u001b[0m     \u001b[38;5;28;01mreturn\u001b[39;00m {\u001b[38;5;124m\"\u001b[39m\u001b[38;5;124mmodified_count\u001b[39m\u001b[38;5;124m\"\u001b[39m: result\u001b[38;5;241m.\u001b[39mmodified_count}\n",
      "File \u001b[0;32m~/anaconda3/lib/python3.11/site-packages/pymongo/synchronous/collection.py:1437\u001b[0m, in \u001b[0;36mCollection.update_many\u001b[0;34m(self, filter, update, upsert, array_filters, bypass_document_validation, collation, hint, session, let, comment)\u001b[0m\n\u001b[1;32m   1433\u001b[0m common\u001b[38;5;241m.\u001b[39mvalidate_list_or_none(\u001b[38;5;124m\"\u001b[39m\u001b[38;5;124marray_filters\u001b[39m\u001b[38;5;124m\"\u001b[39m, array_filters)\n\u001b[1;32m   1435\u001b[0m write_concern \u001b[38;5;241m=\u001b[39m \u001b[38;5;28mself\u001b[39m\u001b[38;5;241m.\u001b[39m_write_concern_for(session)\n\u001b[1;32m   1436\u001b[0m \u001b[38;5;28;01mreturn\u001b[39;00m UpdateResult(\n\u001b[0;32m-> 1437\u001b[0m     \u001b[38;5;28mself\u001b[39m\u001b[38;5;241m.\u001b[39m_update_retryable(\n\u001b[1;32m   1438\u001b[0m         \u001b[38;5;28mfilter\u001b[39m,\n\u001b[1;32m   1439\u001b[0m         update,\n\u001b[1;32m   1440\u001b[0m         _Op\u001b[38;5;241m.\u001b[39mUPDATE,\n\u001b[1;32m   1441\u001b[0m         upsert,\n\u001b[1;32m   1442\u001b[0m         multi\u001b[38;5;241m=\u001b[39m\u001b[38;5;28;01mTrue\u001b[39;00m,\n\u001b[1;32m   1443\u001b[0m         write_concern\u001b[38;5;241m=\u001b[39mwrite_concern,\n\u001b[1;32m   1444\u001b[0m         bypass_doc_val\u001b[38;5;241m=\u001b[39mbypass_document_validation,\n\u001b[1;32m   1445\u001b[0m         collation\u001b[38;5;241m=\u001b[39mcollation,\n\u001b[1;32m   1446\u001b[0m         array_filters\u001b[38;5;241m=\u001b[39marray_filters,\n\u001b[1;32m   1447\u001b[0m         hint\u001b[38;5;241m=\u001b[39mhint,\n\u001b[1;32m   1448\u001b[0m         session\u001b[38;5;241m=\u001b[39msession,\n\u001b[1;32m   1449\u001b[0m         let\u001b[38;5;241m=\u001b[39mlet,\n\u001b[1;32m   1450\u001b[0m         comment\u001b[38;5;241m=\u001b[39mcomment,\n\u001b[1;32m   1451\u001b[0m     ),\n\u001b[1;32m   1452\u001b[0m     write_concern\u001b[38;5;241m.\u001b[39macknowledged,\n\u001b[1;32m   1453\u001b[0m )\n",
      "File \u001b[0;32m~/anaconda3/lib/python3.11/site-packages/pymongo/synchronous/collection.py:1118\u001b[0m, in \u001b[0;36mCollection._update_retryable\u001b[0;34m(self, criteria, document, operation, upsert, multi, write_concern, op_id, ordered, bypass_doc_val, collation, array_filters, hint, session, let, sort, comment)\u001b[0m\n\u001b[1;32m   1095\u001b[0m \u001b[38;5;28;01mdef\u001b[39;00m \u001b[38;5;21m_update\u001b[39m(\n\u001b[1;32m   1096\u001b[0m     session: Optional[ClientSession], conn: Connection, retryable_write: \u001b[38;5;28mbool\u001b[39m\n\u001b[1;32m   1097\u001b[0m ) \u001b[38;5;241m-\u001b[39m\u001b[38;5;241m>\u001b[39m Optional[Mapping[\u001b[38;5;28mstr\u001b[39m, Any]]:\n\u001b[1;32m   1098\u001b[0m     \u001b[38;5;28;01mreturn\u001b[39;00m \u001b[38;5;28mself\u001b[39m\u001b[38;5;241m.\u001b[39m_update(\n\u001b[1;32m   1099\u001b[0m         conn,\n\u001b[1;32m   1100\u001b[0m         criteria,\n\u001b[0;32m   (...)\u001b[0m\n\u001b[1;32m   1115\u001b[0m         comment\u001b[38;5;241m=\u001b[39mcomment,\n\u001b[1;32m   1116\u001b[0m     )\n\u001b[0;32m-> 1118\u001b[0m \u001b[38;5;28;01mreturn\u001b[39;00m \u001b[38;5;28mself\u001b[39m\u001b[38;5;241m.\u001b[39m_database\u001b[38;5;241m.\u001b[39mclient\u001b[38;5;241m.\u001b[39m_retryable_write(\n\u001b[1;32m   1119\u001b[0m     (write_concern \u001b[38;5;129;01mor\u001b[39;00m \u001b[38;5;28mself\u001b[39m\u001b[38;5;241m.\u001b[39mwrite_concern)\u001b[38;5;241m.\u001b[39macknowledged \u001b[38;5;129;01mand\u001b[39;00m \u001b[38;5;129;01mnot\u001b[39;00m multi,\n\u001b[1;32m   1120\u001b[0m     _update,\n\u001b[1;32m   1121\u001b[0m     session,\n\u001b[1;32m   1122\u001b[0m     operation,\n\u001b[1;32m   1123\u001b[0m )\n",
      "File \u001b[0;32m~/anaconda3/lib/python3.11/site-packages/pymongo/synchronous/mongo_client.py:2061\u001b[0m, in \u001b[0;36mMongoClient._retryable_write\u001b[0;34m(self, retryable, func, session, operation, bulk, operation_id)\u001b[0m\n\u001b[1;32m   2047\u001b[0m \u001b[38;5;250m\u001b[39m\u001b[38;5;124;03m\"\"\"Execute an operation with consecutive retries if possible\u001b[39;00m\n\u001b[1;32m   2048\u001b[0m \n\u001b[1;32m   2049\u001b[0m \u001b[38;5;124;03mReturns func()'s return value on success. On error retries the same\u001b[39;00m\n\u001b[0;32m   (...)\u001b[0m\n\u001b[1;32m   2058\u001b[0m \u001b[38;5;124;03m:param bulk: bulk abstraction to execute operations in bulk, defaults to None\u001b[39;00m\n\u001b[1;32m   2059\u001b[0m \u001b[38;5;124;03m\"\"\"\u001b[39;00m\n\u001b[1;32m   2060\u001b[0m \u001b[38;5;28;01mwith\u001b[39;00m \u001b[38;5;28mself\u001b[39m\u001b[38;5;241m.\u001b[39m_tmp_session(session) \u001b[38;5;28;01mas\u001b[39;00m s:\n\u001b[0;32m-> 2061\u001b[0m     \u001b[38;5;28;01mreturn\u001b[39;00m \u001b[38;5;28mself\u001b[39m\u001b[38;5;241m.\u001b[39m_retry_with_session(retryable, func, s, bulk, operation, operation_id)\n",
      "File \u001b[0;32m~/anaconda3/lib/python3.11/site-packages/pymongo/synchronous/mongo_client.py:1947\u001b[0m, in \u001b[0;36mMongoClient._retry_with_session\u001b[0;34m(self, retryable, func, session, bulk, operation, operation_id)\u001b[0m\n\u001b[1;32m   1942\u001b[0m \u001b[38;5;66;03m# Ensure that the options supports retry_writes and there is a valid session not in\u001b[39;00m\n\u001b[1;32m   1943\u001b[0m \u001b[38;5;66;03m# transaction, otherwise, we will not support retry behavior for this txn.\u001b[39;00m\n\u001b[1;32m   1944\u001b[0m retryable \u001b[38;5;241m=\u001b[39m \u001b[38;5;28mbool\u001b[39m(\n\u001b[1;32m   1945\u001b[0m     retryable \u001b[38;5;129;01mand\u001b[39;00m \u001b[38;5;28mself\u001b[39m\u001b[38;5;241m.\u001b[39moptions\u001b[38;5;241m.\u001b[39mretry_writes \u001b[38;5;129;01mand\u001b[39;00m session \u001b[38;5;129;01mand\u001b[39;00m \u001b[38;5;129;01mnot\u001b[39;00m session\u001b[38;5;241m.\u001b[39min_transaction\n\u001b[1;32m   1946\u001b[0m )\n\u001b[0;32m-> 1947\u001b[0m \u001b[38;5;28;01mreturn\u001b[39;00m \u001b[38;5;28mself\u001b[39m\u001b[38;5;241m.\u001b[39m_retry_internal(\n\u001b[1;32m   1948\u001b[0m     func\u001b[38;5;241m=\u001b[39mfunc,\n\u001b[1;32m   1949\u001b[0m     session\u001b[38;5;241m=\u001b[39msession,\n\u001b[1;32m   1950\u001b[0m     bulk\u001b[38;5;241m=\u001b[39mbulk,\n\u001b[1;32m   1951\u001b[0m     operation\u001b[38;5;241m=\u001b[39moperation,\n\u001b[1;32m   1952\u001b[0m     retryable\u001b[38;5;241m=\u001b[39mretryable,\n\u001b[1;32m   1953\u001b[0m     operation_id\u001b[38;5;241m=\u001b[39moperation_id,\n\u001b[1;32m   1954\u001b[0m )\n",
      "File \u001b[0;32m~/anaconda3/lib/python3.11/site-packages/pymongo/_csot.py:125\u001b[0m, in \u001b[0;36mapply.<locals>.csot_wrapper\u001b[0;34m(self, *args, **kwargs)\u001b[0m\n\u001b[1;32m    123\u001b[0m         \u001b[38;5;28;01mwith\u001b[39;00m _TimeoutContext(timeout):\n\u001b[1;32m    124\u001b[0m             \u001b[38;5;28;01mreturn\u001b[39;00m func(\u001b[38;5;28mself\u001b[39m, \u001b[38;5;241m*\u001b[39margs, \u001b[38;5;241m*\u001b[39m\u001b[38;5;241m*\u001b[39mkwargs)\n\u001b[0;32m--> 125\u001b[0m \u001b[38;5;28;01mreturn\u001b[39;00m func(\u001b[38;5;28mself\u001b[39m, \u001b[38;5;241m*\u001b[39margs, \u001b[38;5;241m*\u001b[39m\u001b[38;5;241m*\u001b[39mkwargs)\n",
      "File \u001b[0;32m~/anaconda3/lib/python3.11/site-packages/pymongo/synchronous/mongo_client.py:1993\u001b[0m, in \u001b[0;36mMongoClient._retry_internal\u001b[0;34m(self, func, session, bulk, operation, is_read, address, read_pref, retryable, operation_id)\u001b[0m\n\u001b[1;32m   1956\u001b[0m \u001b[38;5;129m@_csot\u001b[39m\u001b[38;5;241m.\u001b[39mapply\n\u001b[1;32m   1957\u001b[0m \u001b[38;5;28;01mdef\u001b[39;00m \u001b[38;5;21m_retry_internal\u001b[39m(\n\u001b[1;32m   1958\u001b[0m     \u001b[38;5;28mself\u001b[39m,\n\u001b[0;32m   (...)\u001b[0m\n\u001b[1;32m   1967\u001b[0m     operation_id: Optional[\u001b[38;5;28mint\u001b[39m] \u001b[38;5;241m=\u001b[39m \u001b[38;5;28;01mNone\u001b[39;00m,\n\u001b[1;32m   1968\u001b[0m ) \u001b[38;5;241m-\u001b[39m\u001b[38;5;241m>\u001b[39m T:\n\u001b[1;32m   1969\u001b[0m \u001b[38;5;250m    \u001b[39m\u001b[38;5;124;03m\"\"\"Internal retryable helper for all client transactions.\u001b[39;00m\n\u001b[1;32m   1970\u001b[0m \n\u001b[1;32m   1971\u001b[0m \u001b[38;5;124;03m    :param func: Callback function we want to retry\u001b[39;00m\n\u001b[0;32m   (...)\u001b[0m\n\u001b[1;32m   1980\u001b[0m \u001b[38;5;124;03m    :return: Output of the calling func()\u001b[39;00m\n\u001b[1;32m   1981\u001b[0m \u001b[38;5;124;03m    \"\"\"\u001b[39;00m\n\u001b[1;32m   1982\u001b[0m     \u001b[38;5;28;01mreturn\u001b[39;00m _ClientConnectionRetryable(\n\u001b[1;32m   1983\u001b[0m         mongo_client\u001b[38;5;241m=\u001b[39m\u001b[38;5;28mself\u001b[39m,\n\u001b[1;32m   1984\u001b[0m         func\u001b[38;5;241m=\u001b[39mfunc,\n\u001b[1;32m   1985\u001b[0m         bulk\u001b[38;5;241m=\u001b[39mbulk,\n\u001b[1;32m   1986\u001b[0m         operation\u001b[38;5;241m=\u001b[39moperation,\n\u001b[1;32m   1987\u001b[0m         is_read\u001b[38;5;241m=\u001b[39mis_read,\n\u001b[1;32m   1988\u001b[0m         session\u001b[38;5;241m=\u001b[39msession,\n\u001b[1;32m   1989\u001b[0m         read_pref\u001b[38;5;241m=\u001b[39mread_pref,\n\u001b[1;32m   1990\u001b[0m         address\u001b[38;5;241m=\u001b[39maddress,\n\u001b[1;32m   1991\u001b[0m         retryable\u001b[38;5;241m=\u001b[39mretryable,\n\u001b[1;32m   1992\u001b[0m         operation_id\u001b[38;5;241m=\u001b[39moperation_id,\n\u001b[0;32m-> 1993\u001b[0m     )\u001b[38;5;241m.\u001b[39mrun()\n",
      "File \u001b[0;32m~/anaconda3/lib/python3.11/site-packages/pymongo/synchronous/mongo_client.py:2730\u001b[0m, in \u001b[0;36m_ClientConnectionRetryable.run\u001b[0;34m(self)\u001b[0m\n\u001b[1;32m   2728\u001b[0m \u001b[38;5;28mself\u001b[39m\u001b[38;5;241m.\u001b[39m_check_last_error(check_csot\u001b[38;5;241m=\u001b[39m\u001b[38;5;28;01mTrue\u001b[39;00m)\n\u001b[1;32m   2729\u001b[0m \u001b[38;5;28;01mtry\u001b[39;00m:\n\u001b[0;32m-> 2730\u001b[0m     \u001b[38;5;28;01mreturn\u001b[39;00m \u001b[38;5;28mself\u001b[39m\u001b[38;5;241m.\u001b[39m_read() \u001b[38;5;28;01mif\u001b[39;00m \u001b[38;5;28mself\u001b[39m\u001b[38;5;241m.\u001b[39m_is_read \u001b[38;5;28;01melse\u001b[39;00m \u001b[38;5;28mself\u001b[39m\u001b[38;5;241m.\u001b[39m_write()\n\u001b[1;32m   2731\u001b[0m \u001b[38;5;28;01mexcept\u001b[39;00m ServerSelectionTimeoutError:\n\u001b[1;32m   2732\u001b[0m     \u001b[38;5;66;03m# The application may think the write was never attempted\u001b[39;00m\n\u001b[1;32m   2733\u001b[0m     \u001b[38;5;66;03m# if we raise ServerSelectionTimeoutError on the retry\u001b[39;00m\n\u001b[1;32m   2734\u001b[0m     \u001b[38;5;66;03m# attempt. Raise the original exception instead.\u001b[39;00m\n\u001b[1;32m   2735\u001b[0m     \u001b[38;5;28mself\u001b[39m\u001b[38;5;241m.\u001b[39m_check_last_error()\n",
      "File \u001b[0;32m~/anaconda3/lib/python3.11/site-packages/pymongo/synchronous/mongo_client.py:2862\u001b[0m, in \u001b[0;36m_ClientConnectionRetryable._write\u001b[0;34m(self)\u001b[0m\n\u001b[1;32m   2854\u001b[0m         \u001b[38;5;28;01mif\u001b[39;00m \u001b[38;5;28mself\u001b[39m\u001b[38;5;241m.\u001b[39m_retrying:\n\u001b[1;32m   2855\u001b[0m             _debug_log(\n\u001b[1;32m   2856\u001b[0m                 _COMMAND_LOGGER,\n\u001b[1;32m   2857\u001b[0m                 message\u001b[38;5;241m=\u001b[39m\u001b[38;5;124mf\u001b[39m\u001b[38;5;124m\"\u001b[39m\u001b[38;5;124mRetrying write attempt number \u001b[39m\u001b[38;5;132;01m{\u001b[39;00m\u001b[38;5;28mself\u001b[39m\u001b[38;5;241m.\u001b[39m_attempt_number\u001b[38;5;132;01m}\u001b[39;00m\u001b[38;5;124m\"\u001b[39m,\n\u001b[0;32m   (...)\u001b[0m\n\u001b[1;32m   2860\u001b[0m                 operationId\u001b[38;5;241m=\u001b[39m\u001b[38;5;28mself\u001b[39m\u001b[38;5;241m.\u001b[39m_operation_id,\n\u001b[1;32m   2861\u001b[0m             )\n\u001b[0;32m-> 2862\u001b[0m         \u001b[38;5;28;01mreturn\u001b[39;00m \u001b[38;5;28mself\u001b[39m\u001b[38;5;241m.\u001b[39m_func(\u001b[38;5;28mself\u001b[39m\u001b[38;5;241m.\u001b[39m_session, conn, \u001b[38;5;28mself\u001b[39m\u001b[38;5;241m.\u001b[39m_retryable)  \u001b[38;5;66;03m# type: ignore\u001b[39;00m\n\u001b[1;32m   2863\u001b[0m \u001b[38;5;28;01mexcept\u001b[39;00m PyMongoError \u001b[38;5;28;01mas\u001b[39;00m exc:\n\u001b[1;32m   2864\u001b[0m     \u001b[38;5;28;01mif\u001b[39;00m \u001b[38;5;129;01mnot\u001b[39;00m \u001b[38;5;28mself\u001b[39m\u001b[38;5;241m.\u001b[39m_retryable:\n",
      "File \u001b[0;32m~/anaconda3/lib/python3.11/site-packages/pymongo/synchronous/collection.py:1098\u001b[0m, in \u001b[0;36mCollection._update_retryable.<locals>._update\u001b[0;34m(session, conn, retryable_write)\u001b[0m\n\u001b[1;32m   1095\u001b[0m \u001b[38;5;28;01mdef\u001b[39;00m \u001b[38;5;21m_update\u001b[39m(\n\u001b[1;32m   1096\u001b[0m     session: Optional[ClientSession], conn: Connection, retryable_write: \u001b[38;5;28mbool\u001b[39m\n\u001b[1;32m   1097\u001b[0m ) \u001b[38;5;241m-\u001b[39m\u001b[38;5;241m>\u001b[39m Optional[Mapping[\u001b[38;5;28mstr\u001b[39m, Any]]:\n\u001b[0;32m-> 1098\u001b[0m     \u001b[38;5;28;01mreturn\u001b[39;00m \u001b[38;5;28mself\u001b[39m\u001b[38;5;241m.\u001b[39m_update(\n\u001b[1;32m   1099\u001b[0m         conn,\n\u001b[1;32m   1100\u001b[0m         criteria,\n\u001b[1;32m   1101\u001b[0m         document,\n\u001b[1;32m   1102\u001b[0m         upsert\u001b[38;5;241m=\u001b[39mupsert,\n\u001b[1;32m   1103\u001b[0m         multi\u001b[38;5;241m=\u001b[39mmulti,\n\u001b[1;32m   1104\u001b[0m         write_concern\u001b[38;5;241m=\u001b[39mwrite_concern,\n\u001b[1;32m   1105\u001b[0m         op_id\u001b[38;5;241m=\u001b[39mop_id,\n\u001b[1;32m   1106\u001b[0m         ordered\u001b[38;5;241m=\u001b[39mordered,\n\u001b[1;32m   1107\u001b[0m         bypass_doc_val\u001b[38;5;241m=\u001b[39mbypass_doc_val,\n\u001b[1;32m   1108\u001b[0m         collation\u001b[38;5;241m=\u001b[39mcollation,\n\u001b[1;32m   1109\u001b[0m         array_filters\u001b[38;5;241m=\u001b[39marray_filters,\n\u001b[1;32m   1110\u001b[0m         hint\u001b[38;5;241m=\u001b[39mhint,\n\u001b[1;32m   1111\u001b[0m         session\u001b[38;5;241m=\u001b[39msession,\n\u001b[1;32m   1112\u001b[0m         retryable_write\u001b[38;5;241m=\u001b[39mretryable_write,\n\u001b[1;32m   1113\u001b[0m         let\u001b[38;5;241m=\u001b[39mlet,\n\u001b[1;32m   1114\u001b[0m         sort\u001b[38;5;241m=\u001b[39msort,\n\u001b[1;32m   1115\u001b[0m         comment\u001b[38;5;241m=\u001b[39mcomment,\n\u001b[1;32m   1116\u001b[0m     )\n",
      "File \u001b[0;32m~/anaconda3/lib/python3.11/site-packages/pymongo/synchronous/collection.py:1049\u001b[0m, in \u001b[0;36mCollection._update\u001b[0;34m(self, conn, criteria, document, upsert, multi, write_concern, op_id, ordered, bypass_doc_val, collation, array_filters, hint, session, retryable_write, let, sort, comment)\u001b[0m\n\u001b[1;32m   1044\u001b[0m     command[\u001b[38;5;124m\"\u001b[39m\u001b[38;5;124mbypassDocumentValidation\u001b[39m\u001b[38;5;124m\"\u001b[39m] \u001b[38;5;241m=\u001b[39m bypass_doc_val\n\u001b[1;32m   1046\u001b[0m \u001b[38;5;66;03m# The command result has to be published for APM unmodified\u001b[39;00m\n\u001b[1;32m   1047\u001b[0m \u001b[38;5;66;03m# so we make a shallow copy here before adding updatedExisting.\u001b[39;00m\n\u001b[1;32m   1048\u001b[0m result \u001b[38;5;241m=\u001b[39m (\n\u001b[0;32m-> 1049\u001b[0m     conn\u001b[38;5;241m.\u001b[39mcommand(\n\u001b[1;32m   1050\u001b[0m         \u001b[38;5;28mself\u001b[39m\u001b[38;5;241m.\u001b[39m_database\u001b[38;5;241m.\u001b[39mname,\n\u001b[1;32m   1051\u001b[0m         command,\n\u001b[1;32m   1052\u001b[0m         write_concern\u001b[38;5;241m=\u001b[39mwrite_concern,\n\u001b[1;32m   1053\u001b[0m         codec_options\u001b[38;5;241m=\u001b[39m\u001b[38;5;28mself\u001b[39m\u001b[38;5;241m.\u001b[39m_write_response_codec_options,\n\u001b[1;32m   1054\u001b[0m         session\u001b[38;5;241m=\u001b[39msession,\n\u001b[1;32m   1055\u001b[0m         client\u001b[38;5;241m=\u001b[39m\u001b[38;5;28mself\u001b[39m\u001b[38;5;241m.\u001b[39m_database\u001b[38;5;241m.\u001b[39mclient,\n\u001b[1;32m   1056\u001b[0m         retryable_write\u001b[38;5;241m=\u001b[39mretryable_write,\n\u001b[1;32m   1057\u001b[0m     )\n\u001b[1;32m   1058\u001b[0m )\u001b[38;5;241m.\u001b[39mcopy()\n\u001b[1;32m   1059\u001b[0m _check_write_command_response(result)\n\u001b[1;32m   1060\u001b[0m \u001b[38;5;66;03m# Add the updatedExisting field for compatibility.\u001b[39;00m\n",
      "File \u001b[0;32m~/anaconda3/lib/python3.11/site-packages/pymongo/synchronous/helpers.py:47\u001b[0m, in \u001b[0;36m_handle_reauth.<locals>.inner\u001b[0;34m(*args, **kwargs)\u001b[0m\n\u001b[1;32m     44\u001b[0m \u001b[38;5;28;01mfrom\u001b[39;00m \u001b[38;5;21;01mpymongo\u001b[39;00m\u001b[38;5;21;01m.\u001b[39;00m\u001b[38;5;21;01msynchronous\u001b[39;00m\u001b[38;5;21;01m.\u001b[39;00m\u001b[38;5;21;01mpool\u001b[39;00m \u001b[38;5;28;01mimport\u001b[39;00m Connection\n\u001b[1;32m     46\u001b[0m \u001b[38;5;28;01mtry\u001b[39;00m:\n\u001b[0;32m---> 47\u001b[0m     \u001b[38;5;28;01mreturn\u001b[39;00m func(\u001b[38;5;241m*\u001b[39margs, \u001b[38;5;241m*\u001b[39m\u001b[38;5;241m*\u001b[39mkwargs)\n\u001b[1;32m     48\u001b[0m \u001b[38;5;28;01mexcept\u001b[39;00m OperationFailure \u001b[38;5;28;01mas\u001b[39;00m exc:\n\u001b[1;32m     49\u001b[0m     \u001b[38;5;28;01mif\u001b[39;00m no_reauth:\n",
      "File \u001b[0;32m~/anaconda3/lib/python3.11/site-packages/pymongo/synchronous/pool.py:442\u001b[0m, in \u001b[0;36mConnection.command\u001b[0;34m(self, dbname, spec, read_preference, codec_options, check, allowable_errors, read_concern, write_concern, parse_write_concern_error, collation, session, client, retryable_write, publish_events, user_fields, exhaust_allowed)\u001b[0m\n\u001b[1;32m    440\u001b[0m \u001b[38;5;66;03m# Catch socket.error, KeyboardInterrupt, CancelledError, etc. and close ourselves.\u001b[39;00m\n\u001b[1;32m    441\u001b[0m \u001b[38;5;28;01mexcept\u001b[39;00m \u001b[38;5;167;01mBaseException\u001b[39;00m \u001b[38;5;28;01mas\u001b[39;00m error:\n\u001b[0;32m--> 442\u001b[0m     \u001b[38;5;28mself\u001b[39m\u001b[38;5;241m.\u001b[39m_raise_connection_failure(error)\n",
      "File \u001b[0;32m~/anaconda3/lib/python3.11/site-packages/pymongo/synchronous/pool.py:414\u001b[0m, in \u001b[0;36mConnection.command\u001b[0;34m(self, dbname, spec, read_preference, codec_options, check, allowable_errors, read_concern, write_concern, parse_write_concern_error, collation, session, client, retryable_write, publish_events, user_fields, exhaust_allowed)\u001b[0m\n\u001b[1;32m    412\u001b[0m     \u001b[38;5;28mself\u001b[39m\u001b[38;5;241m.\u001b[39m_raise_if_not_writable(unacknowledged)\n\u001b[1;32m    413\u001b[0m \u001b[38;5;28;01mtry\u001b[39;00m:\n\u001b[0;32m--> 414\u001b[0m     \u001b[38;5;28;01mreturn\u001b[39;00m command(\n\u001b[1;32m    415\u001b[0m         \u001b[38;5;28mself\u001b[39m,\n\u001b[1;32m    416\u001b[0m         dbname,\n\u001b[1;32m    417\u001b[0m         spec,\n\u001b[1;32m    418\u001b[0m         \u001b[38;5;28mself\u001b[39m\u001b[38;5;241m.\u001b[39mis_mongos,\n\u001b[1;32m    419\u001b[0m         read_preference,\n\u001b[1;32m    420\u001b[0m         codec_options,\n\u001b[1;32m    421\u001b[0m         session,\n\u001b[1;32m    422\u001b[0m         client,\n\u001b[1;32m    423\u001b[0m         check,\n\u001b[1;32m    424\u001b[0m         allowable_errors,\n\u001b[1;32m    425\u001b[0m         \u001b[38;5;28mself\u001b[39m\u001b[38;5;241m.\u001b[39maddress,\n\u001b[1;32m    426\u001b[0m         listeners,\n\u001b[1;32m    427\u001b[0m         \u001b[38;5;28mself\u001b[39m\u001b[38;5;241m.\u001b[39mmax_bson_size,\n\u001b[1;32m    428\u001b[0m         read_concern,\n\u001b[1;32m    429\u001b[0m         parse_write_concern_error\u001b[38;5;241m=\u001b[39mparse_write_concern_error,\n\u001b[1;32m    430\u001b[0m         collation\u001b[38;5;241m=\u001b[39mcollation,\n\u001b[1;32m    431\u001b[0m         compression_ctx\u001b[38;5;241m=\u001b[39m\u001b[38;5;28mself\u001b[39m\u001b[38;5;241m.\u001b[39mcompression_context,\n\u001b[1;32m    432\u001b[0m         use_op_msg\u001b[38;5;241m=\u001b[39m\u001b[38;5;28mself\u001b[39m\u001b[38;5;241m.\u001b[39mop_msg_enabled,\n\u001b[1;32m    433\u001b[0m         unacknowledged\u001b[38;5;241m=\u001b[39munacknowledged,\n\u001b[1;32m    434\u001b[0m         user_fields\u001b[38;5;241m=\u001b[39muser_fields,\n\u001b[1;32m    435\u001b[0m         exhaust_allowed\u001b[38;5;241m=\u001b[39mexhaust_allowed,\n\u001b[1;32m    436\u001b[0m         write_concern\u001b[38;5;241m=\u001b[39mwrite_concern,\n\u001b[1;32m    437\u001b[0m     )\n\u001b[1;32m    438\u001b[0m \u001b[38;5;28;01mexcept\u001b[39;00m (OperationFailure, NotPrimaryError):\n\u001b[1;32m    439\u001b[0m     \u001b[38;5;28;01mraise\u001b[39;00m\n",
      "File \u001b[0;32m~/anaconda3/lib/python3.11/site-packages/pymongo/synchronous/network.py:148\u001b[0m, in \u001b[0;36mcommand\u001b[0;34m(conn, dbname, spec, is_mongos, read_preference, codec_options, session, client, check, allowable_errors, address, listeners, max_bson_size, read_concern, parse_write_concern_error, collation, compression_ctx, use_op_msg, unacknowledged, user_fields, exhaust_allowed, write_concern)\u001b[0m\n\u001b[1;32m    146\u001b[0m flags \u001b[38;5;241m=\u001b[39m _OpMsg\u001b[38;5;241m.\u001b[39mMORE_TO_COME \u001b[38;5;28;01mif\u001b[39;00m unacknowledged \u001b[38;5;28;01melse\u001b[39;00m \u001b[38;5;241m0\u001b[39m\n\u001b[1;32m    147\u001b[0m flags \u001b[38;5;241m|\u001b[39m\u001b[38;5;241m=\u001b[39m _OpMsg\u001b[38;5;241m.\u001b[39mEXHAUST_ALLOWED \u001b[38;5;28;01mif\u001b[39;00m exhaust_allowed \u001b[38;5;28;01melse\u001b[39;00m \u001b[38;5;241m0\u001b[39m\n\u001b[0;32m--> 148\u001b[0m request_id, msg, size, max_doc_size \u001b[38;5;241m=\u001b[39m message\u001b[38;5;241m.\u001b[39m_op_msg(\n\u001b[1;32m    149\u001b[0m     flags, spec, dbname, read_preference, codec_options, ctx\u001b[38;5;241m=\u001b[39mcompression_ctx\n\u001b[1;32m    150\u001b[0m )\n\u001b[1;32m    151\u001b[0m \u001b[38;5;66;03m# If this is an unacknowledged write then make sure the encoded doc(s)\u001b[39;00m\n\u001b[1;32m    152\u001b[0m \u001b[38;5;66;03m# are small enough, otherwise rely on the server to return an error.\u001b[39;00m\n\u001b[1;32m    153\u001b[0m \u001b[38;5;28;01mif\u001b[39;00m unacknowledged \u001b[38;5;129;01mand\u001b[39;00m max_bson_size \u001b[38;5;129;01mis\u001b[39;00m \u001b[38;5;129;01mnot\u001b[39;00m \u001b[38;5;28;01mNone\u001b[39;00m \u001b[38;5;129;01mand\u001b[39;00m max_doc_size \u001b[38;5;241m>\u001b[39m max_bson_size:\n",
      "File \u001b[0;32m~/anaconda3/lib/python3.11/site-packages/pymongo/message.py:419\u001b[0m, in \u001b[0;36m_op_msg\u001b[0;34m(flags, command, dbname, read_preference, opts, ctx)\u001b[0m\n\u001b[1;32m    417\u001b[0m     \u001b[38;5;28;01mif\u001b[39;00m ctx:\n\u001b[1;32m    418\u001b[0m         \u001b[38;5;28;01mreturn\u001b[39;00m _op_msg_compressed(flags, command, identifier, docs, opts, ctx)\n\u001b[0;32m--> 419\u001b[0m     \u001b[38;5;28;01mreturn\u001b[39;00m _op_msg_uncompressed(flags, command, identifier, docs, opts)\n\u001b[1;32m    420\u001b[0m \u001b[38;5;28;01mfinally\u001b[39;00m:\n\u001b[1;32m    421\u001b[0m     \u001b[38;5;66;03m# Add the field back to the command.\u001b[39;00m\n\u001b[1;32m    422\u001b[0m     \u001b[38;5;28;01mif\u001b[39;00m identifier:\n",
      "\u001b[0;31mInvalidDocument\u001b[0m: Invalid document {'q': {'gender': 0}, 'u': {'$set': {'gender: 1'}}, 'multi': True, 'upsert': False} | cannot encode object: {'gender: 1'}, of type: <class 'set'>"
     ]
    }
   ],
   "source": [
    "def update_gender_zero_to_one(collection):\n",
    "    result = collection.update_many(\n",
    "        {\"gender\": 0}, # Filter: find all documents where gender is 0\n",
    "        {\"$set\": {\"gender\": 1}}  # Update: set gender to 1\n",
    "    )\n",
    "\n",
    "    return {\"modified_count\": result.modified_count} # Return number of updated documents\n",
    "\n",
    "result = update_gender_zero_to_one(collection)\n",
    "print(result)\n",
    "\n"
   ]
  },
  {
   "cell_type": "markdown",
   "id": "cf6353f0",
   "metadata": {},
   "source": [
    "* Quels sont les 5 trajets (start station → end station) les plus fréquents pour les utilisateurs de genre féminin ? (gender = 1)"
   ]
  },
  {
   "cell_type": "code",
   "execution_count": null,
   "id": "6033a534",
   "metadata": {},
   "outputs": [],
   "source": []
  },
  {
   "cell_type": "code",
   "execution_count": null,
   "id": "264ba675",
   "metadata": {},
   "outputs": [],
   "source": []
  },
  {
   "cell_type": "markdown",
   "id": "e97d8fb7",
   "metadata": {},
   "source": [
    "* Quel est le nombre total de trajets par type d’utilisateur (Subscriber vs Customer) pour le premier jour de l'année ?"
   ]
  },
  {
   "cell_type": "code",
   "execution_count": null,
   "id": "bc899bfb",
   "metadata": {},
   "outputs": [],
   "source": []
  },
  {
   "cell_type": "markdown",
   "id": "f937e2c9",
   "metadata": {},
   "source": [
    "* Quelle est la durée moyenne des trajets par station de départ pour les trajets commençant entre 7h et 9h ?"
   ]
  },
  {
   "cell_type": "code",
   "execution_count": null,
   "id": "ee1e5d79",
   "metadata": {},
   "outputs": [],
   "source": []
  },
  {
   "cell_type": "markdown",
   "id": "4cc412f4",
   "metadata": {},
   "source": [
    "* Quel est le top 3 des stations avec la plus forte fréquentation de prise de location, entre 6h et 8h ?"
   ]
  },
  {
   "cell_type": "code",
   "execution_count": null,
   "id": "50f117b9",
   "metadata": {},
   "outputs": [],
   "source": []
  },
  {
   "cell_type": "markdown",
   "id": "189a1e88",
   "metadata": {},
   "source": [
    "* Quelle est la durée médiane des trajets pour les + de 65 ans ?"
   ]
  },
  {
   "cell_type": "code",
   "execution_count": null,
   "id": "4979700e",
   "metadata": {},
   "outputs": [],
   "source": []
  },
  {
   "cell_type": "markdown",
   "id": "4877aa1c",
   "metadata": {},
   "source": [
    "* Quelle est la répartition des trajets (nombre de trajets) par tranche horaire de 2 heures (faire visualisation, 0h-2h, 2h-4h etc..) ?"
   ]
  },
  {
   "cell_type": "code",
   "execution_count": null,
   "id": "5d3ed3ea",
   "metadata": {},
   "outputs": [],
   "source": []
  },
  {
   "cell_type": "markdown",
   "id": "6ac09775",
   "metadata": {},
   "source": [
    "* Quel est le temps moyen passé en trajet pour chaque genre, filtré sur les trajets de plus de 10 minutes ?"
   ]
  },
  {
   "cell_type": "code",
   "execution_count": null,
   "id": "f93b73a6",
   "metadata": {},
   "outputs": [],
   "source": []
  },
  {
   "cell_type": "markdown",
   "id": "fc6b00bf",
   "metadata": {},
   "source": [
    "* Combien de trajets ont démarré pour chaque station pendant les heures de pointe (ex. 7h-9h et 17h-19h) ?"
   ]
  },
  {
   "cell_type": "code",
   "execution_count": null,
   "id": "d71418a1",
   "metadata": {},
   "outputs": [],
   "source": []
  },
  {
   "cell_type": "markdown",
   "id": "36a1b288",
   "metadata": {},
   "source": [
    "* Quel est l'âge le plus courant pour les locations de 18h à 20h ?"
   ]
  },
  {
   "cell_type": "code",
   "execution_count": null,
   "id": "e14da1f7",
   "metadata": {},
   "outputs": [],
   "source": []
  }
 ],
 "metadata": {
  "kernelspec": {
   "display_name": "base",
   "language": "python",
   "name": "python3"
  },
  "language_info": {
   "codemirror_mode": {
    "name": "ipython",
    "version": 3
   },
   "file_extension": ".py",
   "mimetype": "text/x-python",
   "name": "python",
   "nbconvert_exporter": "python",
   "pygments_lexer": "ipython3",
   "version": "3.11.5"
  }
 },
 "nbformat": 4,
 "nbformat_minor": 5
}
