{
 "cells": [
  {
   "cell_type": "code",
   "execution_count": 91,
   "id": "f8c78b8c",
   "metadata": {},
   "outputs": [],
   "source": [
    "import json\n",
    "from datetime import datetime, time\n",
    "\n",
    "from pymongo.mongo_client import MongoClient\n",
    "import bson\n",
    "\n",
    "from datetime import datetime\n",
    "import os"
   ]
  },
  {
   "cell_type": "markdown",
   "id": "1c54ef67",
   "metadata": {},
   "source": [
    "* A partir du fichier trips_.json, remplacez les espaces des clés par un underscore, puis mettez en base en changeant les chaîne de caractères qui concerne des grandeurs numériques par le type integer ou float et les champs de date ($date) doit être sous format datetime.datetime. Ainsi les champs préfixé '$number...' suivent  l'exemple ci-dessous(cherchez du côté de la librairie bson, il existe une fonction utilitaire, il faut aussi réduire la profondeur):\n",
    "* From the file trips_.json, replace the spaces in the keys with underscores. Then insert the data into the database while converting string values that represent numerical quantities into either integer or float types. Fields containing dates ($date) must be converted to the datetime.datetime format. Also, fields prefixed with $number... should follow the example below (look into the bson library — there is a utility function for this). The depth of the document should also be reduced.\n",
    "\n",
    "```json\n",
    "{'tripduration': {'$numberInt': 379}}\n",
    "```\n",
    "\n",
    "en :\n",
    "\n",
    "```json\n",
    "{'tripduration': 379}\n",
    "```"
   ]
  },
  {
   "cell_type": "code",
   "execution_count": 92,
   "id": "750ebabc",
   "metadata": {},
   "outputs": [],
   "source": [
    "\n",
    "def clean_document(doc):\n",
    "    if isinstance(doc, dict):\n",
    "        # Handle special MongoDB extended JSON values\n",
    "        if \"$numberInt\" in doc:\n",
    "            return int(doc[\"$numberInt\"]) #If the document is like: {\"$numberInt\": \"42\"}, this will return 42 as a Python int.\n",
    "        elif \"$numberDouble\" in doc:\n",
    "            return float(doc[\"$numberDouble\"])\n",
    "        elif \"$numberLong\" in doc:\n",
    "            return int(doc[\"$numberLong\"])\n",
    "        elif \"$date\" in doc:\n",
    "            date_val = doc[\"$date\"]\n",
    "            if isinstance(date_val, dict) and \"$numberLong\" in date_val:\n",
    "                return datetime.fromtimestamp(int(date_val[\"$numberLong\"]) / 1000.0) #Dates are stored in JSON as a Unix timestamp in milliseconds Python's datetime.fromtimestamp() expects seconds, so we divide by 1000.\n",
    "            elif isinstance(date_val, str): #If the date is an ISO-formatted string\n",
    "                return datetime.fromisoformat(date_val.replace(\"Z\", \"+00:00\")) #.replace(\"Z\", \"+00:00\") makes it compatible with datetime.fromisoformat\n",
    "                                                                                #Converts the string to a native datetime object\n",
    "\n",
    "        # Clean key names and recursively clean values\n",
    "        cleaned = {}\n",
    "        for key, value in doc.items():\n",
    "            clean_key = key.replace(\" \", \"_\")\n",
    "            cleaned[clean_key] = clean_document(value) #handling normal dictionaries (not just special MongoDB fields)\n",
    "        return cleaned\n",
    "\n",
    "    elif isinstance(doc, list): #f doc is a list\n",
    "        return [clean_document(item) for item in doc] #this goes through each item in the list and applies clean_document() recursively.\n",
    "    \n",
    "    else:\n",
    "        return doc #If the input doc is: a string (\"hello\"), an integer (123), a float (3.14), None, or anything that isn’t a dict or list…, \n",
    "                   #Then it just returns it as-is.\n"
   ]
  },
  {
   "cell_type": "code",
   "execution_count": 93,
   "id": "949b8263",
   "metadata": {},
   "outputs": [
    {
     "name": "stdout",
     "output_type": "stream",
     "text": [
      "{'tripduration': 307, 'start_station_id': 3118, 'start_station_name': 'McGuinness Blvd & Eagle St', 'end_station_id': 3119, 'end_station_name': 'Vernon Blvd & 50 Ave', 'bikeid': 23477, 'usertype': 'Subscriber', 'birth_year': 1987, 'gender': 1, 'start_station_location': {'type': 'Point', 'coordinates': [-73.95284, 40.73555]}, 'end_station_location': {'type': 'Point', 'coordinates': [-73.95411749, 40.74232744]}, 'start_time': datetime.datetime(2016, 1, 1, 8, 4, 31), 'stop_time': datetime.datetime(2016, 1, 1, 8, 9, 38)}\n"
     ]
    }
   ],
   "source": [
    "import json\n",
    "\n",
    "cleaned_documents = [] #Creates an empty list that will store all the cleaned documents.\n",
    "\n",
    "with open(\"trips_.json\", \"r\", encoding=\"utf-8\") as f:\n",
    "    for line in f:\n",
    "        line = line.strip() #removes leading/trailing whitespace and newline characters\n",
    "        if not line:\n",
    "            continue\n",
    "        raw_doc = json.loads(line) #converts the JSON string into a Python dictionary \n",
    "        cleaned = clean_document(raw_doc) #applies the cleaning function I defined earlier\n",
    "        cleaned_documents.append(cleaned) #Adds the cleaned version of the document to the cleaned_documents list\n",
    "\n",
    "# Show one example\n",
    "print(cleaned_documents[0])\n",
    "\n"
   ]
  },
  {
   "cell_type": "markdown",
   "id": "b83ea8ec",
   "metadata": {},
   "source": [
    "Après avoir mis en base et uniquement, assurez-vous qu'il n'y a pas de doublons, si il y en a, écrivez une fonction python permettant de les retirer (sans à avoir à faire de téléchargement) 'delete dublicates'"
   ]
  },
  {
   "cell_type": "code",
   "execution_count": 94,
   "id": "1008a976",
   "metadata": {},
   "outputs": [
    {
     "name": "stdout",
     "output_type": "stream",
     "text": [
      "Cleared existing documents.\n",
      "Inserted 10019 documents.\n"
     ]
    }
   ],
   "source": [
    "# Connect to local MongoDB\n",
    "client = MongoClient(\"mongodb://localhost:27017/\")\n",
    "db = client[\"bikedata\"]\n",
    "collection = db[\"trips\"]\n",
    "\n",
    "\n",
    "# Clear existing documents to avoid duplicate stacking\n",
    "collection.delete_many({})\n",
    "print(\"Cleared existing documents.\")\n",
    "\n",
    "# Insert cleaned documents\n",
    "collection.insert_many(cleaned_documents)\n",
    "print(f\"Inserted {len(cleaned_documents)} documents.\")\n"
   ]
  },
  {
   "cell_type": "code",
   "execution_count": 95,
   "id": "7d0d3647",
   "metadata": {},
   "outputs": [
    {
     "name": "stdout",
     "output_type": "stream",
     "text": [
      "Removed 19 duplicates.\n"
     ]
    }
   ],
   "source": [
    "from bson.json_util import dumps #converts a Python dict (or MongoDB document) into a JSON-formatted string, \n",
    "                                #including support for special MongoDB types like ObjectId, datetime, etc.\n",
    "\n",
    "def remove_duplicates(collection):\n",
    "    seen = set()\n",
    "    duplicates = []\n",
    "\n",
    "    for doc in collection.find(): #Loop Through Every Document in the Collection\n",
    "        doc_copy = doc.copy() #Prepare the Document for Comparison\n",
    "        doc_copy.pop(\"_id\", None) #Even if two documents are otherwise identical, their _ids will differ, so we remove _id before comparison.\n",
    "        doc_str = dumps(doc_copy, sort_keys=True) #Converts the document into a string using bson.json_util.dumps()\n",
    "                                                #sort_keys=True ensures a consistent order for fields \n",
    "\n",
    "        if doc_str in seen: #If this stringified document has been seen before → it’s a duplicate → store its _id in duplicates\n",
    "            duplicates.append(doc[\"_id\"])\n",
    "        else:\n",
    "            seen.add(doc_str) #If not → add it to seen\n",
    "\n",
    "    if duplicates:\n",
    "        collection.delete_many({\"_id\": {\"$in\": duplicates}}) #Uses $in to match any document with one of those _ids\n",
    "        print(f\"Removed {len(duplicates)} duplicates.\")\n",
    "    else:\n",
    "        print(\"No duplicates found.\")\n",
    "\n",
    "remove_duplicates(collection)\n"
   ]
  },
  {
   "cell_type": "code",
   "execution_count": 96,
   "id": "a6b9e489",
   "metadata": {},
   "outputs": [
    {
     "name": "stdout",
     "output_type": "stream",
     "text": [
      "Saved cleaned_trips.json to:\n",
      "/Users/pernebayarailym/Documents/Portfolio_Projects_AP/Simplon_DE_Projects/Python_Projects/MongoDB_practice/cleaned_trips.json\n"
     ]
    }
   ],
   "source": [
    "output_path = os.path.join(os.getcwd(), \"cleaned_trips.json\")\n",
    "\n",
    "with open(output_path, \"w\", encoding=\"utf-8\") as f:\n",
    "    for doc in cleaned_documents:\n",
    "        json.dump(doc, f, default=str)  # default=str for datetime\n",
    "        f.write(\"\\n\")\n",
    "\n",
    "print(\"Saved cleaned_trips.json to:\")\n",
    "print(output_path)"
   ]
  },
  {
   "cell_type": "markdown",
   "id": "95997b49",
   "metadata": {},
   "source": [
    "De plus, des hypothèses d'incohérences ont été émises par les parties prenantes, il s'agit d'écrire pour chacune de ces hypothèses une fonction python qui va détecter les documents incriminés et les flagger avec un champs supplémentaire pour rectification/enquête ultérieure :\n",
    "\n",
    "* Un vélo loué deux fois, mais la deuxième période de location démarre avant le rendu de la première période de location, ce qui n'est pas normal, ou tout autre chevanchement de période.\n",
    "* Un utilisateur trop jeune (le service est réservé au + de 13 ans)\n",
    "* La date de naissance n'est pas renseignée\n",
    "* Des locations trop courtes (1 secondes)\n",
    "* Des temps de location incohérents par rapport au start_time et au end_time\n",
    "\n",
    "\n",
    "Faites un rapport détaillé des anomalies trouvées (nombres d'occurences)\n",
    "\n",
    "* In addition, stakeholders have raised hypotheses about potential data inconsistencies. You are required to write a Python function for each of these hypotheses to detect the problematic documents and flag them with an additional field for future correction/investigation:\n",
    "\n",
    "- A bike is rented twice, but the second rental period starts before the first one has ended, which is abnormal, or any other overlapping rental periods.\n",
    "- A user who is too young (the service is restricted to those over 13 years old).\n",
    "- The birth date is missing.\n",
    "- Very short rentals (e.g., 1 second long).\n",
    "- Inconsistent rental durations compared to the recorded start_time and end_time.\n",
    "\n",
    "Create a detailed report of the anomalies found (number of occurrences)."
   ]
  },
  {
   "cell_type": "code",
   "execution_count": 97,
   "id": "c87d7249",
   "metadata": {},
   "outputs": [
    {
     "name": "stdout",
     "output_type": "stream",
     "text": [
      "{'overlapping_rental': 2}\n"
     ]
    }
   ],
   "source": [
    "def detect_overlapping_bike_rentals(collection): #I developed a Python function to detect overlapping bike rentals in the MongoDB dataset.\n",
    "    from collections import defaultdict #to import defaultdict to automatically create lists for new keys \n",
    "\n",
    "    bike_trips = defaultdict(list) #dictionary to group trips by bike ID, e.g., {23477: [trip1, trip2, ...]}\n",
    "    overlap_count=0 #to count the number of overlapping trips\n",
    "\n",
    "    #group trips by bike_id\n",
    "    for trip in collection.find({\"start_time\":{\"$exists\": True}, \"stop_time\": {\"$exists\": True}}): #sorted each group by start_time to analyze them chronologically.\n",
    "        bike_trips[trip[\"bikeid\"]].append(trip)\n",
    "\n",
    "    #check overlap per bike\n",
    "    for trips in bike_trips.values():\n",
    "        sorted_trips =sorted(trips, key=lambda x: x[\"start_time\"]) #Then, for each bike, I checked if a new trip started before the previous one ended which would indicate a scheduling conflict or data error.\n",
    "\n",
    "        for earlier, later in zip(sorted_trips, sorted_trips[1:]):\n",
    "            if later[\"start_time\"] < earlier[\"stop_time\"]:\n",
    "                collection.update_one({\"_id\": later[\"_id\"]}, {\"$set\": {\"anomaly\": \"overlapping_rental\"}}) #If an overlap was found, I flagged the trip by adding an \"anomaly\": \"overlapping_rental\" field in the database. \n",
    "                overlap_count += 1\n",
    "\n",
    "    return {\"overlapping_rental\": overlap_count}\n",
    "\n",
    "result = detect_overlapping_bike_rentals(collection)\n",
    "print(result) #Finally, I returned the total number of overlaps detected for reporting purposes."
   ]
  },
  {
   "cell_type": "code",
   "execution_count": 98,
   "id": "c48f08af",
   "metadata": {},
   "outputs": [
    {
     "name": "stdout",
     "output_type": "stream",
     "text": [
      "{'underage_user': 2}\n"
     ]
    }
   ],
   "source": [
    "from datetime import datetime # we import datetime to get the current year (to calculate user's ages)\n",
    "\n",
    "def detect_underage_users(collection): # define a function that takes a MongoDB collection as input\n",
    "    current_year = datetime.now().year # Get the current year (eg 2025) so we can calculate the user;s age\n",
    "\n",
    "#count how many users have a birth year that means they are younger than 13\n",
    "    underage_count = collection.count_documents({\n",
    "        \"birth_year\": { \"$exists\": True, #make sure birth_year field exists\n",
    "                       \"$ne\": \"\", #And it's not an empty string\n",
    "                       \"$gt\": current_year - 13} #and birth year is greater than (current year - 13) = too young\n",
    "    })\n",
    "\n",
    "    # tag those name underage users with an \"anomaly\" field in the database\n",
    "    collection.update_many(\n",
    "        {\"birth_year\": {\"$exists\": True, \"$ne\": \"\", \"$gt\":current_year-13}}, #same filter as above to update\n",
    "        {\"$set\": {\"anomaly\": \"underage_user\"}} #add or update the anomaly field in their document\n",
    "    )\n",
    "\n",
    "    return {\"underage_user\": underage_count} #return a report with the number of underage users detected\n",
    "\n",
    "result = detect_underage_users(collection) #call the function and store the result\n",
    "print(result)"
   ]
  },
  {
   "cell_type": "markdown",
   "id": "9b7ab216",
   "metadata": {},
   "source": [
    "Puis, après avoir fait un nettoyage et écarté les locations suspectes, répondez aux questions métier qui suivent :"
   ]
  },
  {
   "cell_type": "markdown",
   "id": "641ee46c",
   "metadata": {},
   "source": [
    "* Changez le gender 0 en gender 1"
   ]
  },
  {
   "cell_type": "markdown",
   "id": "cf6353f0",
   "metadata": {},
   "source": [
    "* Quels sont les 5 trajets (start station → end station) les plus fréquents pour les utilisateurs de genre féminin ? (gender = 1)"
   ]
  },
  {
   "cell_type": "code",
   "execution_count": null,
   "id": "6033a534",
   "metadata": {},
   "outputs": [],
   "source": []
  },
  {
   "cell_type": "code",
   "execution_count": null,
   "id": "264ba675",
   "metadata": {},
   "outputs": [],
   "source": []
  },
  {
   "cell_type": "markdown",
   "id": "e97d8fb7",
   "metadata": {},
   "source": [
    "* Quel est le nombre total de trajets par type d’utilisateur (Subscriber vs Customer) pour le premier jour de l'année ?"
   ]
  },
  {
   "cell_type": "code",
   "execution_count": null,
   "id": "bc899bfb",
   "metadata": {},
   "outputs": [],
   "source": []
  },
  {
   "cell_type": "markdown",
   "id": "f937e2c9",
   "metadata": {},
   "source": [
    "* Quelle est la durée moyenne des trajets par station de départ pour les trajets commençant entre 7h et 9h ?"
   ]
  },
  {
   "cell_type": "code",
   "execution_count": null,
   "id": "ee1e5d79",
   "metadata": {},
   "outputs": [],
   "source": []
  },
  {
   "cell_type": "markdown",
   "id": "4cc412f4",
   "metadata": {},
   "source": [
    "* Quel est le top 3 des stations avec la plus forte fréquentation de prise de location, entre 6h et 8h ?"
   ]
  },
  {
   "cell_type": "code",
   "execution_count": null,
   "id": "50f117b9",
   "metadata": {},
   "outputs": [],
   "source": []
  },
  {
   "cell_type": "markdown",
   "id": "189a1e88",
   "metadata": {},
   "source": [
    "* Quelle est la durée médiane des trajets pour les + de 65 ans ?"
   ]
  },
  {
   "cell_type": "code",
   "execution_count": null,
   "id": "4979700e",
   "metadata": {},
   "outputs": [],
   "source": []
  },
  {
   "cell_type": "markdown",
   "id": "4877aa1c",
   "metadata": {},
   "source": [
    "* Quelle est la répartition des trajets (nombre de trajets) par tranche horaire de 2 heures (faire visualisation, 0h-2h, 2h-4h etc..) ?"
   ]
  },
  {
   "cell_type": "code",
   "execution_count": null,
   "id": "5d3ed3ea",
   "metadata": {},
   "outputs": [],
   "source": []
  },
  {
   "cell_type": "markdown",
   "id": "6ac09775",
   "metadata": {},
   "source": [
    "* Quel est le temps moyen passé en trajet pour chaque genre, filtré sur les trajets de plus de 10 minutes ?"
   ]
  },
  {
   "cell_type": "code",
   "execution_count": null,
   "id": "f93b73a6",
   "metadata": {},
   "outputs": [],
   "source": []
  },
  {
   "cell_type": "markdown",
   "id": "fc6b00bf",
   "metadata": {},
   "source": [
    "* Combien de trajets ont démarré pour chaque station pendant les heures de pointe (ex. 7h-9h et 17h-19h) ?"
   ]
  },
  {
   "cell_type": "code",
   "execution_count": null,
   "id": "d71418a1",
   "metadata": {},
   "outputs": [],
   "source": []
  },
  {
   "cell_type": "markdown",
   "id": "36a1b288",
   "metadata": {},
   "source": [
    "* Quel est l'âge le plus courant pour les locations de 18h à 20h ?"
   ]
  },
  {
   "cell_type": "code",
   "execution_count": null,
   "id": "e14da1f7",
   "metadata": {},
   "outputs": [],
   "source": []
  }
 ],
 "metadata": {
  "kernelspec": {
   "display_name": "base",
   "language": "python",
   "name": "python3"
  },
  "language_info": {
   "codemirror_mode": {
    "name": "ipython",
    "version": 3
   },
   "file_extension": ".py",
   "mimetype": "text/x-python",
   "name": "python",
   "nbconvert_exporter": "python",
   "pygments_lexer": "ipython3",
   "version": "3.11.5"
  }
 },
 "nbformat": 4,
 "nbformat_minor": 5
}
